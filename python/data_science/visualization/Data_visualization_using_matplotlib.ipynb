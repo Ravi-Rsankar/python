{
  "nbformat": 4,
  "nbformat_minor": 0,
  "metadata": {
    "colab": {
      "name": "Data_visualization_using_matplotlib.ipynb",
      "provenance": [],
      "authorship_tag": "ABX9TyMAS01/1Ww+a9avOkvCpHJw",
      "include_colab_link": true
    },
    "kernelspec": {
      "name": "python3",
      "display_name": "Python 3"
    }
  },
  "cells": [
    {
      "cell_type": "markdown",
      "metadata": {
        "id": "view-in-github",
        "colab_type": "text"
      },
      "source": [
        "<a href=\"https://colab.research.google.com/github/Ravi-Rsankar/python/blob/master/python/data_science/visualization/Data_visualization_using_matplotlib.ipynb\" target=\"_parent\"><img src=\"https://colab.research.google.com/assets/colab-badge.svg\" alt=\"Open In Colab\"/></a>"
      ]
    },
    {
      "cell_type": "code",
      "metadata": {
        "id": "eNgzlyzPU2oT",
        "colab_type": "code",
        "colab": {}
      },
      "source": [
        "import matplotlib.pyplot as plt\n",
        "import numpy as np"
      ],
      "execution_count": 0,
      "outputs": []
    },
    {
      "cell_type": "code",
      "metadata": {
        "id": "IejwPpAsVCI0",
        "colab_type": "code",
        "outputId": "8579c953-1a01-458c-af30-fe240f444ba4",
        "colab": {
          "base_uri": "https://localhost:8080/",
          "height": 283
        }
      },
      "source": [
        "plt.plot([1,2,8])\n",
        "plt.ylabel('some numbers')"
      ],
      "execution_count": 0,
      "outputs": [
        {
          "output_type": "execute_result",
          "data": {
            "text/plain": [
              "Text(0, 0.5, 'some numbers')"
            ]
          },
          "metadata": {
            "tags": []
          },
          "execution_count": 7
        },
        {
          "output_type": "display_data",
          "data": {
            "image/png": "[encoded data removed]",
            "text/plain": [
              "<Figure size 432x288 with 1 Axes>"
            ]
          },
          "metadata": {
            "tags": []
          }
        }
      ]
    },
    {
      "cell_type": "markdown",
      "metadata": {
        "id": "Z-SIod7l81td",
        "colab_type": "text"
      },
      "source": [
        "You may be wondering why the x-axis ranges from 0-3 and the y-axis from 1-4. If you provide a single list or array to the plot() command, matplotlib assumes it is a sequence of y values, and automatically generates the x values for you. Since python ranges start with 0, the default x vector has the same length as y but starts with 0"
      ]
    },
    {
      "cell_type": "code",
      "metadata": {
        "id": "6KCookyKVN8N",
        "colab_type": "code",
        "outputId": "c4227629-f75a-4241-905d-c7604ec61112",
        "colab": {
          "base_uri": "https://localhost:8080/",
          "height": 269
        }
      },
      "source": [
        "plt.plot([1,2,3], [4,8,5], 'ro')# ro represents the red color circles\n",
        "plt.axis([0,5, 0, 10])\n",
        "plt.show()"
      ],
      "execution_count": 0,
      "outputs": [
        {
          "output_type": "display_data",
          "data": {
            "image/png": "[encoded data removed]",
            "text/plain": [
              "<Figure size 432x288 with 1 Axes>"
            ]
          },
          "metadata": {
            "tags": []
          }
        }
      ]
    },
    {
      "cell_type": "code",
      "metadata": {
        "id": "icf6ukZS4d8y",
        "colab_type": "code",
        "outputId": "220fc839-435b-4366-e4a1-83af46d22705",
        "colab": {
          "base_uri": "https://localhost:8080/",
          "height": 53
        }
      },
      "source": [
        "t = np.arange(0, 5, 0.2)\n",
        "t"
      ],
      "execution_count": 0,
      "outputs": [
        {
          "output_type": "execute_result",
          "data": {
            "text/plain": [
              "array([0. , 0.2, 0.4, 0.6, 0.8, 1. , 1.2, 1.4, 1.6, 1.8, 2. , 2.2, 2.4,\n",
              "       2.6, 2.8, 3. , 3.2, 3.4, 3.6, 3.8, 4. , 4.2, 4.4, 4.6, 4.8])"
            ]
          },
          "metadata": {
            "tags": []
          },
          "execution_count": 16
        }
      ]
    },
    {
      "cell_type": "code",
      "metadata": {
        "id": "O8RiXzbd8Nea",
        "colab_type": "code",
        "outputId": "eb897d54-3973-4a73-e1b5-3225417bee13",
        "colab": {
          "base_uri": "https://localhost:8080/",
          "height": 265
        }
      },
      "source": [
        "plt.plot(t,t, 'r-', t,t**2, 'bs', t,t**3, 'g^')\n",
        "plt.show()"
      ],
      "execution_count": 0,
      "outputs": [
        {
          "output_type": "display_data",
          "data": {
            "image/png": "[encoded data removed]",
            "text/plain": [
              "<Figure size 432x288 with 1 Axes>"
            ]
          },
          "metadata": {
            "tags": []
          }
        }
      ]
    },
    {
      "cell_type": "markdown",
      "metadata": {
        "id": "wJwFqhCN9fkW",
        "colab_type": "text"
      },
      "source": [
        "The first two 't' represents the red line.  \n",
        "The third and fourth t represents the blue squares.  \n",
        "The next 2 t represents the green triangle"
      ]
    },
    {
      "cell_type": "code",
      "metadata": {
        "id": "ZsGH2EDJ9K6q",
        "colab_type": "code",
        "colab": {}
      },
      "source": [
        "a = np.arange(50)\n",
        "b = np.random.randint(0, 50, 50)\n",
        "# b = np.ones(50)\n",
        "c = np.random.randn(50)"
      ],
      "execution_count": 0,
      "outputs": []
    },
    {
      "cell_type": "code",
      "metadata": {
        "id": "h7zY5BvZ8Xa0",
        "colab_type": "code",
        "colab": {}
      },
      "source": [
        "data = {'a':a,\n",
        "        'c':b,\n",
        "        'd':c}\n",
        "data['b'] = data['a'] + 10 * np.random.randn(50)\n",
        "data['d'] = data['d'] * 100 "
      ],
      "execution_count": 0,
      "outputs": []
    },
    {
      "cell_type": "code",
      "metadata": {
        "id": "J2MVjAZ2Asfc",
        "colab_type": "code",
        "outputId": "e0824eb1-7e74-4281-f87b-2f354eeb398e",
        "colab": {
          "base_uri": "https://localhost:8080/",
          "height": 544
        }
      },
      "source": [
        "data"
      ],
      "execution_count": 0,
      "outputs": [
        {
          "output_type": "execute_result",
          "data": {
            "text/plain": [
              "{'a': array([ 0,  1,  2,  3,  4,  5,  6,  7,  8,  9, 10, 11, 12, 13, 14, 15, 16,\n",
              "        17, 18, 19, 20, 21, 22, 23, 24, 25, 26, 27, 28, 29, 30, 31, 32, 33,\n",
              "        34, 35, 36, 37, 38, 39, 40, 41, 42, 43, 44, 45, 46, 47, 48, 49]),\n",
              " 'b': array([ 4.09056327, -3.67452929,  0.62852931, -6.38793374, -8.63189615,\n",
              "        11.94535679, -6.10729282,  5.69331725, 11.83355626,  7.04626146,\n",
              "        -4.20221623, 22.27569544, 23.79916166, 14.68066237,  3.50369656,\n",
              "         8.27801315, 23.91795872,  2.86001285, 35.35673943, 49.4122004 ,\n",
              "        26.00994847,  9.12666874, 24.3991065 , 34.12147515, 15.70849223,\n",
              "        24.12987328, 16.26222755, 30.74449009, 17.21193451, 16.32315189,\n",
              "        35.27134848, 45.98611454, 25.8461531 , 36.15129485, 37.84648329,\n",
              "        31.74353784, 36.84300519, 26.11962828, 37.39460301, 32.48029108,\n",
              "        42.78139081, 34.31032977, 23.53274163, 39.08608233, 47.86519363,\n",
              "        41.43917552, 41.48200457, 56.26842231, 39.05018523, 41.93858844]),\n",
              " 'c': array([31, 28, 39, 41, 38, 29, 28, 47, 12, 40, 25, 44, 30, 10, 29, 39, 43,\n",
              "        33, 41, 27,  3, 43, 14,  2, 18,  9,  0, 41, 27, 12, 49, 30,  0, 41,\n",
              "        27,  7, 19, 12, 15, 49, 32, 34, 41, 35,  4, 49, 17,  1, 27, 22]),\n",
              " 'd': array([  18.00712846,   16.23055294,  -17.3171137 ,   21.01978182,\n",
              "        -122.17084001,  107.35908944,  134.38012711,  -18.73162038,\n",
              "         -22.42635771,   70.70447031,  -21.54258383,  -36.95420402,\n",
              "         -41.91404724,  -33.6950873 ,   35.14360558,   11.48277362,\n",
              "        -140.68194143,   25.17444322, -202.18535324,  115.44651237,\n",
              "          63.9087974 ,  101.90257688, -242.41178763,  -15.23013223,\n",
              "        -185.41360351,   22.02600614,   85.92467434,   37.84970011,\n",
              "         -69.42561527,  176.26347075,  152.64219557,   18.71799925,\n",
              "         104.53402892,  -90.28353225,  -89.81837041,   81.02263364,\n",
              "         149.65014321,   49.51027088,   87.53631241,   23.48973197,\n",
              "          28.4930612 ,  -51.91757833,   -0.73096912,   90.34538106,\n",
              "         149.14874819,   36.60007086,   83.48377445,  168.17082216,\n",
              "        -187.07178038,  192.878462  ])}"
            ]
          },
          "metadata": {
            "tags": []
          },
          "execution_count": 45
        }
      ]
    },
    {
      "cell_type": "code",
      "metadata": {
        "id": "wBPNzA7VBlfj",
        "colab_type": "code",
        "outputId": "2ab0fc85-0932-4c72-e86c-c39150418ca7",
        "colab": {
          "base_uri": "https://localhost:8080/",
          "height": 464
        }
      },
      "source": [
        "plt.figure(figsize=(9,7))\n",
        "plt.scatter('a','b', s='d', c='c',data=data)\n",
        "plt.show()"
      ],
      "execution_count": 0,
      "outputs": [
        {
          "output_type": "stream",
          "text": [
            "/usr/local/lib/python3.6/dist-packages/matplotlib/collections.py:857: RuntimeWarning: invalid value encountered in sqrt\n",
            "  scale = np.sqrt(self._sizes) * dpi / 72.0 * self._factor\n"
          ],
          "name": "stderr"
        },
        {
          "output_type": "display_data",
          "data": {
            "image/png": "[encoded data removed]",
            "text/plain": [
              "<Figure size 648x504 with 1 Axes>"
            ]
          },
          "metadata": {
            "tags": []
          }
        }
      ]
    },
    {
      "cell_type": "markdown",
      "metadata": {
        "id": "tCz30RXiEldi",
        "colab_type": "text"
      },
      "source": [
        "Scatter takes datapoints which is 'a' and 'b'.  \n",
        "s - marker size.  \n",
        "c = marker color.  \n",
        "\n",
        "If data given the above parameters will be taken from data[args]"
      ]
    },
    {
      "cell_type": "code",
      "metadata": {
        "id": "k0OMBVn1B6Uw",
        "colab_type": "code",
        "colab": {
          "base_uri": "https://localhost:8080/",
          "height": 357
        },
        "outputId": "cdf55713-5ae7-422c-a8a6-ae52e3a10795"
      },
      "source": [
        "names = ['group_a', 'group_b', 'group_c']\n",
        "values = [1, 10, 100]\n",
        "\n",
        "plt.figure(figsize=(15, 5))\n",
        "\n",
        "plt.subplot(131)\n",
        "plt.bar(names, values)\n",
        "plt.subplot(132)\n",
        "plt.scatter(names, values)\n",
        "plt.subplot(133)\n",
        "plt.plot(names, values)\n",
        "plt.suptitle('Categorical Plotting')\n",
        "plt.show()"
      ],
      "execution_count": 64,
      "outputs": [
        {
          "output_type": "display_data",
          "data": {
            "image/png": "[encoded data removed]",
            "text/plain": [
              "<Figure size 1080x360 with 3 Axes>"
            ]
          },
          "metadata": {
            "tags": []
          }
        }
      ]
    },
    {
      "cell_type": "code",
      "metadata": {
        "id": "CAx3jgY-LZ93",
        "colab_type": "code",
        "colab": {}
      },
      "source": [
        ""
      ],
      "execution_count": 0,
      "outputs": []
    }
  ]
}